{
 "cells": [
  {
   "cell_type": "code",
   "execution_count": 1,
   "id": "a36e84ba",
   "metadata": {},
   "outputs": [],
   "source": [
    "import pandas as pd\n",
    "import numpy as np\n",
    "import cv2\n",
    "import skimage\n",
    "from skimage import exposure, transform\n",
    "from skimage.transform import resize\n",
    "from skimage.io import imread, imshow\n",
    "import matplotlib.pyplot as plt\n",
    "\n",
    "import tensorflow\n",
    "from tensorflow import keras\n",
    "from tensorflow.keras.models import load_model\n",
    "\n",
    "from sklearn.model_selection import train_test_split, GridSearchCV\n",
    "from sklearn import tree\n",
    "from sklearn.ensemble import RandomForestRegressor\n",
    "from sklearn.svm import SVR\n",
    "from sklearn.metrics import mean_absolute_error"
   ]
  },
  {
   "cell_type": "code",
   "execution_count": 2,
   "id": "3661b524",
   "metadata": {},
   "outputs": [
    {
     "data": {
      "text/html": [
       "<div>\n",
       "<style scoped>\n",
       "    .dataframe tbody tr th:only-of-type {\n",
       "        vertical-align: middle;\n",
       "    }\n",
       "\n",
       "    .dataframe tbody tr th {\n",
       "        vertical-align: top;\n",
       "    }\n",
       "\n",
       "    .dataframe thead th {\n",
       "        text-align: right;\n",
       "    }\n",
       "</style>\n",
       "<table border=\"1\" class=\"dataframe\">\n",
       "  <thead>\n",
       "    <tr style=\"text-align: right;\">\n",
       "      <th></th>\n",
       "      <th>id</th>\n",
       "      <th>boneage</th>\n",
       "      <th>male</th>\n",
       "    </tr>\n",
       "  </thead>\n",
       "  <tbody>\n",
       "    <tr>\n",
       "      <th>0</th>\n",
       "      <td>1386</td>\n",
       "      <td>30</td>\n",
       "      <td>False</td>\n",
       "    </tr>\n",
       "    <tr>\n",
       "      <th>1</th>\n",
       "      <td>1392</td>\n",
       "      <td>162</td>\n",
       "      <td>True</td>\n",
       "    </tr>\n",
       "    <tr>\n",
       "      <th>2</th>\n",
       "      <td>1397</td>\n",
       "      <td>18</td>\n",
       "      <td>False</td>\n",
       "    </tr>\n",
       "    <tr>\n",
       "      <th>3</th>\n",
       "      <td>1401</td>\n",
       "      <td>132</td>\n",
       "      <td>False</td>\n",
       "    </tr>\n",
       "    <tr>\n",
       "      <th>4</th>\n",
       "      <td>1410</td>\n",
       "      <td>57</td>\n",
       "      <td>True</td>\n",
       "    </tr>\n",
       "  </tbody>\n",
       "</table>\n",
       "</div>"
      ],
      "text/plain": [
       "     id  boneage   male\n",
       "0  1386       30  False\n",
       "1  1392      162   True\n",
       "2  1397       18  False\n",
       "3  1401      132  False\n",
       "4  1410       57   True"
      ]
     },
     "execution_count": 2,
     "metadata": {},
     "output_type": "execute_result"
    }
   ],
   "source": [
    "train_df = pd.read_csv(\"BoneAge.csv\")\n",
    "\n",
    "train_df.head()"
   ]
  },
  {
   "cell_type": "code",
   "execution_count": 3,
   "id": "35dabcec",
   "metadata": {},
   "outputs": [
    {
     "data": {
      "text/html": [
       "<div>\n",
       "<style scoped>\n",
       "    .dataframe tbody tr th:only-of-type {\n",
       "        vertical-align: middle;\n",
       "    }\n",
       "\n",
       "    .dataframe tbody tr th {\n",
       "        vertical-align: top;\n",
       "    }\n",
       "\n",
       "    .dataframe thead th {\n",
       "        text-align: right;\n",
       "    }\n",
       "</style>\n",
       "<table border=\"1\" class=\"dataframe\">\n",
       "  <thead>\n",
       "    <tr style=\"text-align: right;\">\n",
       "      <th></th>\n",
       "      <th>id</th>\n",
       "      <th>boneage</th>\n",
       "      <th>male</th>\n",
       "    </tr>\n",
       "  </thead>\n",
       "  <tbody>\n",
       "    <tr>\n",
       "      <th>0</th>\n",
       "      <td>1386</td>\n",
       "      <td>30</td>\n",
       "      <td>False</td>\n",
       "    </tr>\n",
       "    <tr>\n",
       "      <th>1</th>\n",
       "      <td>1392</td>\n",
       "      <td>162</td>\n",
       "      <td>True</td>\n",
       "    </tr>\n",
       "    <tr>\n",
       "      <th>2</th>\n",
       "      <td>1397</td>\n",
       "      <td>18</td>\n",
       "      <td>False</td>\n",
       "    </tr>\n",
       "    <tr>\n",
       "      <th>3</th>\n",
       "      <td>1401</td>\n",
       "      <td>132</td>\n",
       "      <td>False</td>\n",
       "    </tr>\n",
       "    <tr>\n",
       "      <th>4</th>\n",
       "      <td>1410</td>\n",
       "      <td>57</td>\n",
       "      <td>True</td>\n",
       "    </tr>\n",
       "  </tbody>\n",
       "</table>\n",
       "</div>"
      ],
      "text/plain": [
       "     id  boneage   male\n",
       "0  1386       30  False\n",
       "1  1392      162   True\n",
       "2  1397       18  False\n",
       "3  1401      132  False\n",
       "4  1410       57   True"
      ]
     },
     "execution_count": 3,
     "metadata": {},
     "output_type": "execute_result"
    }
   ],
   "source": [
    "# train_df = train_df.drop(\"male\", axis=1)\n",
    "\n",
    "train_df.head()"
   ]
  },
  {
   "cell_type": "code",
   "execution_count": 4,
   "id": "61171a9f",
   "metadata": {},
   "outputs": [
    {
     "data": {
      "text/html": [
       "<div>\n",
       "<style scoped>\n",
       "    .dataframe tbody tr th:only-of-type {\n",
       "        vertical-align: middle;\n",
       "    }\n",
       "\n",
       "    .dataframe tbody tr th {\n",
       "        vertical-align: top;\n",
       "    }\n",
       "\n",
       "    .dataframe thead th {\n",
       "        text-align: right;\n",
       "    }\n",
       "</style>\n",
       "<table border=\"1\" class=\"dataframe\">\n",
       "  <thead>\n",
       "    <tr style=\"text-align: right;\">\n",
       "      <th></th>\n",
       "      <th>id</th>\n",
       "      <th>boneage</th>\n",
       "      <th>male</th>\n",
       "      <th>file_paths</th>\n",
       "    </tr>\n",
       "  </thead>\n",
       "  <tbody>\n",
       "    <tr>\n",
       "      <th>0</th>\n",
       "      <td>1386</td>\n",
       "      <td>30</td>\n",
       "      <td>False</td>\n",
       "      <td>./data/validation/1386.png</td>\n",
       "    </tr>\n",
       "    <tr>\n",
       "      <th>1</th>\n",
       "      <td>1392</td>\n",
       "      <td>162</td>\n",
       "      <td>True</td>\n",
       "      <td>./data/validation/1392.png</td>\n",
       "    </tr>\n",
       "    <tr>\n",
       "      <th>2</th>\n",
       "      <td>1397</td>\n",
       "      <td>18</td>\n",
       "      <td>False</td>\n",
       "      <td>./data/validation/1397.png</td>\n",
       "    </tr>\n",
       "    <tr>\n",
       "      <th>3</th>\n",
       "      <td>1401</td>\n",
       "      <td>132</td>\n",
       "      <td>False</td>\n",
       "      <td>./data/validation/1401.png</td>\n",
       "    </tr>\n",
       "    <tr>\n",
       "      <th>4</th>\n",
       "      <td>1410</td>\n",
       "      <td>57</td>\n",
       "      <td>True</td>\n",
       "      <td>./data/validation/1410.png</td>\n",
       "    </tr>\n",
       "  </tbody>\n",
       "</table>\n",
       "</div>"
      ],
      "text/plain": [
       "     id  boneage   male                  file_paths\n",
       "0  1386       30  False  ./data/validation/1386.png\n",
       "1  1392      162   True  ./data/validation/1392.png\n",
       "2  1397       18  False  ./data/validation/1397.png\n",
       "3  1401      132  False  ./data/validation/1401.png\n",
       "4  1410       57   True  ./data/validation/1410.png"
      ]
     },
     "execution_count": 4,
     "metadata": {},
     "output_type": "execute_result"
    }
   ],
   "source": [
    "train_df[\"file_paths\"] = train_df[\"id\"].apply(lambda x: \"./data/validation/\" + str(x) + \".png\")\n",
    "\n",
    "train_df.head()"
   ]
  },
  {
   "cell_type": "code",
   "execution_count": 5,
   "id": "52aa5dc4",
   "metadata": {},
   "outputs": [
    {
     "data": {
      "text/html": [
       "<div>\n",
       "<style scoped>\n",
       "    .dataframe tbody tr th:only-of-type {\n",
       "        vertical-align: middle;\n",
       "    }\n",
       "\n",
       "    .dataframe tbody tr th {\n",
       "        vertical-align: top;\n",
       "    }\n",
       "\n",
       "    .dataframe thead th {\n",
       "        text-align: right;\n",
       "    }\n",
       "</style>\n",
       "<table border=\"1\" class=\"dataframe\">\n",
       "  <thead>\n",
       "    <tr style=\"text-align: right;\">\n",
       "      <th></th>\n",
       "      <th>id</th>\n",
       "      <th>boneage</th>\n",
       "      <th>male</th>\n",
       "      <th>file_paths</th>\n",
       "    </tr>\n",
       "  </thead>\n",
       "  <tbody>\n",
       "    <tr>\n",
       "      <th>800</th>\n",
       "      <td>9727</td>\n",
       "      <td>120</td>\n",
       "      <td>False</td>\n",
       "      <td>./data/validation/9727.png</td>\n",
       "    </tr>\n",
       "    <tr>\n",
       "      <th>801</th>\n",
       "      <td>9731</td>\n",
       "      <td>84</td>\n",
       "      <td>True</td>\n",
       "      <td>./data/validation/9731.png</td>\n",
       "    </tr>\n",
       "    <tr>\n",
       "      <th>802</th>\n",
       "      <td>9743</td>\n",
       "      <td>113</td>\n",
       "      <td>False</td>\n",
       "      <td>./data/validation/9743.png</td>\n",
       "    </tr>\n",
       "    <tr>\n",
       "      <th>803</th>\n",
       "      <td>9748</td>\n",
       "      <td>144</td>\n",
       "      <td>False</td>\n",
       "      <td>./data/validation/9748.png</td>\n",
       "    </tr>\n",
       "    <tr>\n",
       "      <th>804</th>\n",
       "      <td>9755</td>\n",
       "      <td>106</td>\n",
       "      <td>False</td>\n",
       "      <td>./data/validation/9755.png</td>\n",
       "    </tr>\n",
       "  </tbody>\n",
       "</table>\n",
       "</div>"
      ],
      "text/plain": [
       "       id  boneage   male                  file_paths\n",
       "800  9727      120  False  ./data/validation/9727.png\n",
       "801  9731       84   True  ./data/validation/9731.png\n",
       "802  9743      113  False  ./data/validation/9743.png\n",
       "803  9748      144  False  ./data/validation/9748.png\n",
       "804  9755      106  False  ./data/validation/9755.png"
      ]
     },
     "execution_count": 5,
     "metadata": {},
     "output_type": "execute_result"
    }
   ],
   "source": [
    "def find_valid_files(file_path):\n",
    "    try:\n",
    "        imread(file_path)\n",
    "        return 1\n",
    "    except FileNotFoundError:\n",
    "        return 0\n",
    "    \n",
    "train_df[\"valid\"] = train_df[\"file_paths\"].apply(lambda x: find_valid_files(x))\n",
    "train_df = train_df[train_df[\"valid\"] == 1]\n",
    "train_df = train_df.drop(\"valid\", axis=1)\n",
    "\n",
    "train_df.head()"
   ]
  },
  {
   "cell_type": "code",
   "execution_count": 6,
   "id": "7be4c6e2",
   "metadata": {},
   "outputs": [],
   "source": [
    "MODEL_PATH = \"FINAL_UNET_MODEL.h5\"\n",
    "model = load_model(MODEL_PATH)"
   ]
  },
  {
   "cell_type": "code",
   "execution_count": 7,
   "id": "76dc6d19",
   "metadata": {},
   "outputs": [
    {
     "data": {
      "text/html": [
       "<div>\n",
       "<style scoped>\n",
       "    .dataframe tbody tr th:only-of-type {\n",
       "        vertical-align: middle;\n",
       "    }\n",
       "\n",
       "    .dataframe tbody tr th {\n",
       "        vertical-align: top;\n",
       "    }\n",
       "\n",
       "    .dataframe thead th {\n",
       "        text-align: right;\n",
       "    }\n",
       "</style>\n",
       "<table border=\"1\" class=\"dataframe\">\n",
       "  <thead>\n",
       "    <tr style=\"text-align: right;\">\n",
       "      <th></th>\n",
       "      <th>id</th>\n",
       "      <th>boneage</th>\n",
       "      <th>male</th>\n",
       "      <th>file_paths</th>\n",
       "      <th>masks</th>\n",
       "    </tr>\n",
       "  </thead>\n",
       "  <tbody>\n",
       "    <tr>\n",
       "      <th>800</th>\n",
       "      <td>9727</td>\n",
       "      <td>120</td>\n",
       "      <td>False</td>\n",
       "      <td>./data/validation/9727.png</td>\n",
       "      <td>[[[1], [0], [0], [0], [0], [0], [0], [0], [0],...</td>\n",
       "    </tr>\n",
       "    <tr>\n",
       "      <th>801</th>\n",
       "      <td>9731</td>\n",
       "      <td>84</td>\n",
       "      <td>True</td>\n",
       "      <td>./data/validation/9731.png</td>\n",
       "      <td>[[[1], [1], [1], [1], [1], [1], [1], [1], [1],...</td>\n",
       "    </tr>\n",
       "    <tr>\n",
       "      <th>802</th>\n",
       "      <td>9743</td>\n",
       "      <td>113</td>\n",
       "      <td>False</td>\n",
       "      <td>./data/validation/9743.png</td>\n",
       "      <td>[[[1], [0], [0], [0], [0], [0], [0], [0], [0],...</td>\n",
       "    </tr>\n",
       "    <tr>\n",
       "      <th>803</th>\n",
       "      <td>9748</td>\n",
       "      <td>144</td>\n",
       "      <td>False</td>\n",
       "      <td>./data/validation/9748.png</td>\n",
       "      <td>[[[1], [1], [0], [0], [0], [0], [0], [0], [0],...</td>\n",
       "    </tr>\n",
       "    <tr>\n",
       "      <th>804</th>\n",
       "      <td>9755</td>\n",
       "      <td>106</td>\n",
       "      <td>False</td>\n",
       "      <td>./data/validation/9755.png</td>\n",
       "      <td>[[[1], [1], [1], [1], [1], [1], [0], [0], [0],...</td>\n",
       "    </tr>\n",
       "  </tbody>\n",
       "</table>\n",
       "</div>"
      ],
      "text/plain": [
       "       id  boneage   male                  file_paths  \\\n",
       "800  9727      120  False  ./data/validation/9727.png   \n",
       "801  9731       84   True  ./data/validation/9731.png   \n",
       "802  9743      113  False  ./data/validation/9743.png   \n",
       "803  9748      144  False  ./data/validation/9748.png   \n",
       "804  9755      106  False  ./data/validation/9755.png   \n",
       "\n",
       "                                                 masks  \n",
       "800  [[[1], [0], [0], [0], [0], [0], [0], [0], [0],...  \n",
       "801  [[[1], [1], [1], [1], [1], [1], [1], [1], [1],...  \n",
       "802  [[[1], [0], [0], [0], [0], [0], [0], [0], [0],...  \n",
       "803  [[[1], [1], [0], [0], [0], [0], [0], [0], [0],...  \n",
       "804  [[[1], [1], [1], [1], [1], [1], [0], [0], [0],...  "
      ]
     },
     "execution_count": 7,
     "metadata": {},
     "output_type": "execute_result"
    }
   ],
   "source": [
    "def apply_model(file_path):\n",
    "    image = imread(file_path)\n",
    "    image = resize(image, (256, 256, 1), mode=\"constant\", preserve_range=True)\n",
    "    result = model.predict( np.expand_dims(image, 0) )[0]\n",
    "    result = np.where(result >= np.mean(result), 1, 0)\n",
    "    \n",
    "    return result\n",
    "\n",
    "train_df[\"masks\"] = train_df[\"file_paths\"].apply(lambda x: apply_model(x))\n",
    "train_df.head()"
   ]
  },
  {
   "cell_type": "code",
   "execution_count": 8,
   "id": "cb422d8e",
   "metadata": {
    "scrolled": true
   },
   "outputs": [
    {
     "name": "stderr",
     "output_type": "stream",
     "text": [
      "/Users/preetam/opt/anaconda3/envs/ml/lib/python3.6/site-packages/skimage/io/_plugins/matplotlib_plugin.py:150: UserWarning: Low image data range; displaying image with stretched contrast.\n",
      "  lo, hi, cmap = _get_display_range(image)\n"
     ]
    },
    {
     "data": {
      "text/plain": [
       "<matplotlib.image.AxesImage at 0x7f98bf095278>"
      ]
     },
     "execution_count": 8,
     "metadata": {},
     "output_type": "execute_result"
    },
    {
     "data": {
      "image/png": "[encoded data removed]",
      "text/plain": [
       "<Figure size 432x288 with 2 Axes>"
      ]
     },
     "metadata": {
      "needs_background": "light"
     },
     "output_type": "display_data"
    }
   ],
   "source": [
    "segm_img = train_df.iloc(0)[8][\"masks\"]\n",
    "imshow(segm_img, cmap=plt.cm.gray)"
   ]
  },
  {
   "cell_type": "code",
   "execution_count": 9,
   "id": "172d4cc5",
   "metadata": {},
   "outputs": [
    {
     "data": {
      "text/html": [
       "<div>\n",
       "<style scoped>\n",
       "    .dataframe tbody tr th:only-of-type {\n",
       "        vertical-align: middle;\n",
       "    }\n",
       "\n",
       "    .dataframe tbody tr th {\n",
       "        vertical-align: top;\n",
       "    }\n",
       "\n",
       "    .dataframe thead th {\n",
       "        text-align: right;\n",
       "    }\n",
       "</style>\n",
       "<table border=\"1\" class=\"dataframe\">\n",
       "  <thead>\n",
       "    <tr style=\"text-align: right;\">\n",
       "      <th></th>\n",
       "      <th>id</th>\n",
       "      <th>boneage</th>\n",
       "      <th>male</th>\n",
       "      <th>file_paths</th>\n",
       "      <th>masks</th>\n",
       "      <th>flattened_masks</th>\n",
       "    </tr>\n",
       "  </thead>\n",
       "  <tbody>\n",
       "    <tr>\n",
       "      <th>800</th>\n",
       "      <td>9727</td>\n",
       "      <td>120</td>\n",
       "      <td>False</td>\n",
       "      <td>./data/validation/9727.png</td>\n",
       "      <td>[[[1], [0], [0], [0], [0], [0], [0], [0], [0],...</td>\n",
       "      <td>[1, 0, 0, 0, 0, 0, 0, 0, 0, 0, 0, 0, 0, 0, 0, ...</td>\n",
       "    </tr>\n",
       "    <tr>\n",
       "      <th>801</th>\n",
       "      <td>9731</td>\n",
       "      <td>84</td>\n",
       "      <td>True</td>\n",
       "      <td>./data/validation/9731.png</td>\n",
       "      <td>[[[1], [1], [1], [1], [1], [1], [1], [1], [1],...</td>\n",
       "      <td>[1, 1, 1, 1, 1, 1, 1, 1, 1, 1, 1, 1, 1, 1, 1, ...</td>\n",
       "    </tr>\n",
       "    <tr>\n",
       "      <th>802</th>\n",
       "      <td>9743</td>\n",
       "      <td>113</td>\n",
       "      <td>False</td>\n",
       "      <td>./data/validation/9743.png</td>\n",
       "      <td>[[[1], [0], [0], [0], [0], [0], [0], [0], [0],...</td>\n",
       "      <td>[1, 0, 0, 0, 0, 0, 0, 0, 0, 0, 0, 0, 0, 0, 0, ...</td>\n",
       "    </tr>\n",
       "    <tr>\n",
       "      <th>803</th>\n",
       "      <td>9748</td>\n",
       "      <td>144</td>\n",
       "      <td>False</td>\n",
       "      <td>./data/validation/9748.png</td>\n",
       "      <td>[[[1], [1], [0], [0], [0], [0], [0], [0], [0],...</td>\n",
       "      <td>[1, 1, 0, 0, 0, 0, 0, 0, 0, 0, 0, 0, 0, 0, 0, ...</td>\n",
       "    </tr>\n",
       "    <tr>\n",
       "      <th>804</th>\n",
       "      <td>9755</td>\n",
       "      <td>106</td>\n",
       "      <td>False</td>\n",
       "      <td>./data/validation/9755.png</td>\n",
       "      <td>[[[1], [1], [1], [1], [1], [1], [0], [0], [0],...</td>\n",
       "      <td>[1, 1, 1, 1, 1, 1, 0, 0, 0, 0, 0, 0, 0, 0, 0, ...</td>\n",
       "    </tr>\n",
       "  </tbody>\n",
       "</table>\n",
       "</div>"
      ],
      "text/plain": [
       "       id  boneage   male                  file_paths  \\\n",
       "800  9727      120  False  ./data/validation/9727.png   \n",
       "801  9731       84   True  ./data/validation/9731.png   \n",
       "802  9743      113  False  ./data/validation/9743.png   \n",
       "803  9748      144  False  ./data/validation/9748.png   \n",
       "804  9755      106  False  ./data/validation/9755.png   \n",
       "\n",
       "                                                 masks  \\\n",
       "800  [[[1], [0], [0], [0], [0], [0], [0], [0], [0],...   \n",
       "801  [[[1], [1], [1], [1], [1], [1], [1], [1], [1],...   \n",
       "802  [[[1], [0], [0], [0], [0], [0], [0], [0], [0],...   \n",
       "803  [[[1], [1], [0], [0], [0], [0], [0], [0], [0],...   \n",
       "804  [[[1], [1], [1], [1], [1], [1], [0], [0], [0],...   \n",
       "\n",
       "                                       flattened_masks  \n",
       "800  [1, 0, 0, 0, 0, 0, 0, 0, 0, 0, 0, 0, 0, 0, 0, ...  \n",
       "801  [1, 1, 1, 1, 1, 1, 1, 1, 1, 1, 1, 1, 1, 1, 1, ...  \n",
       "802  [1, 0, 0, 0, 0, 0, 0, 0, 0, 0, 0, 0, 0, 0, 0, ...  \n",
       "803  [1, 1, 0, 0, 0, 0, 0, 0, 0, 0, 0, 0, 0, 0, 0, ...  \n",
       "804  [1, 1, 1, 1, 1, 1, 0, 0, 0, 0, 0, 0, 0, 0, 0, ...  "
      ]
     },
     "execution_count": 9,
     "metadata": {},
     "output_type": "execute_result"
    }
   ],
   "source": [
    "train_df[\"flattened_masks\"] = train_df[\"masks\"].apply(lambda x: x.flatten())\n",
    "train_df.head()"
   ]
  },
  {
   "cell_type": "code",
   "execution_count": 10,
   "id": "8cfc93b1",
   "metadata": {},
   "outputs": [
    {
     "name": "stdout",
     "output_type": "stream",
     "text": [
      "(625, 65536)\n",
      "(625,)\n"
     ]
    }
   ],
   "source": [
    "X_train = np.array(train_df[\"flattened_masks\"].values.tolist())\n",
    "y_train = np.array(train_df[\"boneage\"])\n",
    "\n",
    "print(X_train.shape)\n",
    "print(y_train.shape)"
   ]
  },
  {
   "cell_type": "code",
   "execution_count": 13,
   "id": "6d135c91",
   "metadata": {},
   "outputs": [],
   "source": [
    "X_train, X_test, y_train, y_test = train_test_split(X_train, y_train, test_size = 0.2, random_state = 0)"
   ]
  },
  {
   "cell_type": "code",
   "execution_count": 14,
   "id": "a6f9e5c4",
   "metadata": {},
   "outputs": [
    {
     "name": "stdout",
     "output_type": "stream",
     "text": [
      "7.055990904512366 years\n",
      "-7.58719503783814 years\n",
      "29.212257730004254  months\n",
      "2.4343548108336877  years\n",
      "CPU times: user 23min 13s, sys: 15min 34s, total: 38min 47s\n",
      "Wall time: 11min 35s\n"
     ]
    }
   ],
   "source": [
    "%%time\n",
    "from sklearn.ensemble import AdaBoostRegressor\n",
    "\n",
    "svr = SVR(C=10, coef0=0.01, degree=3, gamma=\"scale\", kernel=\"rbf\")\n",
    "ada_regr = AdaBoostRegressor(base_estimator=svr, n_estimators=10, loss=\"square\")\n",
    "ada_regr.fit(X_train, y_train)\n",
    "\n",
    "preds = ada_regr.predict(X_test)\n",
    "print(np.max((preds - y_test) / 12), \"years\")\n",
    "print(np.min((preds - y_test) / 12), \"years\")\n",
    "\n",
    "error = mean_absolute_error(y_test, preds)\n",
    "print(error, \" months\")\n",
    "print(error / 12, \" years\")"
   ]
  },
  {
   "cell_type": "code",
   "execution_count": 15,
   "id": "d7739144",
   "metadata": {},
   "outputs": [
    {
     "name": "stdout",
     "output_type": "stream",
     "text": [
      "8.193753531493565 years\n",
      "-6.80712572549741 years\n",
      "28.722095896630425  months\n",
      "2.3935079913858686  years\n",
      "CPU times: user 5min 27s, sys: 3min 22s, total: 8min 49s\n",
      "Wall time: 2min 54s\n"
     ]
    }
   ],
   "source": [
    "%%time\n",
    "from sklearn.ensemble import BaggingRegressor\n",
    "\n",
    "bag_regr = BaggingRegressor(base_estimator=svr, n_estimators=10)\n",
    "bag_regr.fit(X_train, y_train)\n",
    "\n",
    "preds = bag_regr.predict(X_test)\n",
    "print(np.max((preds - y_test) / 12), \"years\")\n",
    "print(np.min((preds - y_test) / 12), \"years\")\n",
    "\n",
    "error = mean_absolute_error(y_test, preds)\n",
    "print(error, \" months\")\n",
    "print(error / 12, \" years\")"
   ]
  },
  {
   "cell_type": "code",
   "execution_count": 16,
   "id": "0c1a9271",
   "metadata": {},
   "outputs": [
    {
     "name": "stdout",
     "output_type": "stream",
     "text": [
      "7.919238683127571 years\n",
      "-7.598639455782313 years\n",
      "28.892791760809516  months\n",
      "2.4077326467341265  years\n",
      "CPU times: user 13.3 s, sys: 1.64 s, total: 14.9 s\n",
      "Wall time: 17.2 s\n"
     ]
    }
   ],
   "source": [
    "%%time\n",
    "from sklearn.ensemble import AdaBoostRegressor\n",
    "\n",
    "svr = SVR(C=10, coef0=0.01, degree=3, gamma=\"scale\", kernel=\"rbf\")\n",
    "ada_regr = AdaBoostRegressor(n_estimators=10, loss=\"square\")\n",
    "ada_regr.fit(X_train, y_train)\n",
    "\n",
    "preds = ada_regr.predict(X_test)\n",
    "print(np.max((preds - y_test) / 12), \"years\")\n",
    "print(np.min((preds - y_test) / 12), \"years\")\n",
    "\n",
    "error = mean_absolute_error(y_test, preds)\n",
    "print(error, \" months\")\n",
    "print(error / 12, \" years\")"
   ]
  },
  {
   "cell_type": "code",
   "execution_count": 19,
   "id": "462dc592",
   "metadata": {},
   "outputs": [
    {
     "name": "stdout",
     "output_type": "stream",
     "text": [
      "9.85 years\n",
      "-8.116666666666667 years\n",
      "28.917600000000007  months\n",
      "2.4098000000000006  years\n",
      "CPU times: user 26.4 s, sys: 2.4 s, total: 28.8 s\n",
      "Wall time: 30.4 s\n"
     ]
    }
   ],
   "source": [
    "%%time\n",
    "from sklearn.ensemble import BaggingRegressor\n",
    "\n",
    "bag_regr = BaggingRegressor(n_estimators=10)\n",
    "bag_regr.fit(X_train, y_train)\n",
    "\n",
    "X_test\n",
    "y_test\n",
    "preds = bag_regr.predict(X_test)\n",
    "print(np.max((preds - y_test) / 12), \"years\")\n",
    "print(np.min((preds - y_test) / 12), \"years\")\n",
    "\n",
    "error = mean_absolute_error(y_test, preds)\n",
    "print(error, \" months\")\n",
    "print(error / 12, \" years\")"
   ]
  },
  {
   "cell_type": "code",
   "execution_count": 11,
   "id": "e4196b42",
   "metadata": {},
   "outputs": [
    {
     "data": {
      "text/html": [
       "<div>\n",
       "<style scoped>\n",
       "    .dataframe tbody tr th:only-of-type {\n",
       "        vertical-align: middle;\n",
       "    }\n",
       "\n",
       "    .dataframe tbody tr th {\n",
       "        vertical-align: top;\n",
       "    }\n",
       "\n",
       "    .dataframe thead th {\n",
       "        text-align: right;\n",
       "    }\n",
       "</style>\n",
       "<table border=\"1\" class=\"dataframe\">\n",
       "  <thead>\n",
       "    <tr style=\"text-align: right;\">\n",
       "      <th></th>\n",
       "      <th>id</th>\n",
       "      <th>boneage</th>\n",
       "      <th>male</th>\n",
       "      <th>file_paths</th>\n",
       "      <th>masks</th>\n",
       "      <th>flattened_masks</th>\n",
       "    </tr>\n",
       "  </thead>\n",
       "  <tbody>\n",
       "    <tr>\n",
       "      <th>801</th>\n",
       "      <td>9731</td>\n",
       "      <td>84</td>\n",
       "      <td>True</td>\n",
       "      <td>./data/validation/9731.png</td>\n",
       "      <td>[[[1], [1], [1], [1], [1], [1], [1], [1], [1],...</td>\n",
       "      <td>[1, 1, 1, 1, 1, 1, 1, 1, 1, 1, 1, 1, 1, 1, 1, ...</td>\n",
       "    </tr>\n",
       "    <tr>\n",
       "      <th>806</th>\n",
       "      <td>9760</td>\n",
       "      <td>168</td>\n",
       "      <td>True</td>\n",
       "      <td>./data/validation/9760.png</td>\n",
       "      <td>[[[1], [1], [1], [0], [0], [0], [0], [0], [0],...</td>\n",
       "      <td>[1, 1, 1, 0, 0, 0, 0, 0, 0, 1, 1, 1, 1, 1, 1, ...</td>\n",
       "    </tr>\n",
       "    <tr>\n",
       "      <th>807</th>\n",
       "      <td>9764</td>\n",
       "      <td>156</td>\n",
       "      <td>True</td>\n",
       "      <td>./data/validation/9764.png</td>\n",
       "      <td>[[[1], [0], [0], [0], [0], [0], [0], [0], [0],...</td>\n",
       "      <td>[1, 0, 0, 0, 0, 0, 0, 0, 0, 0, 0, 0, 0, 0, 0, ...</td>\n",
       "    </tr>\n",
       "    <tr>\n",
       "      <th>809</th>\n",
       "      <td>9782</td>\n",
       "      <td>138</td>\n",
       "      <td>True</td>\n",
       "      <td>./data/validation/9782.png</td>\n",
       "      <td>[[[1], [0], [0], [0], [0], [0], [0], [0], [0],...</td>\n",
       "      <td>[1, 0, 0, 0, 0, 0, 0, 0, 0, 0, 0, 0, 0, 0, 0, ...</td>\n",
       "    </tr>\n",
       "    <tr>\n",
       "      <th>811</th>\n",
       "      <td>9832</td>\n",
       "      <td>150</td>\n",
       "      <td>True</td>\n",
       "      <td>./data/validation/9832.png</td>\n",
       "      <td>[[[1], [1], [1], [1], [1], [1], [1], [1], [1],...</td>\n",
       "      <td>[1, 1, 1, 1, 1, 1, 1, 1, 1, 1, 1, 1, 1, 1, 1, ...</td>\n",
       "    </tr>\n",
       "  </tbody>\n",
       "</table>\n",
       "</div>"
      ],
      "text/plain": [
       "       id  boneage  male                  file_paths  \\\n",
       "801  9731       84  True  ./data/validation/9731.png   \n",
       "806  9760      168  True  ./data/validation/9760.png   \n",
       "807  9764      156  True  ./data/validation/9764.png   \n",
       "809  9782      138  True  ./data/validation/9782.png   \n",
       "811  9832      150  True  ./data/validation/9832.png   \n",
       "\n",
       "                                                 masks  \\\n",
       "801  [[[1], [1], [1], [1], [1], [1], [1], [1], [1],...   \n",
       "806  [[[1], [1], [1], [0], [0], [0], [0], [0], [0],...   \n",
       "807  [[[1], [0], [0], [0], [0], [0], [0], [0], [0],...   \n",
       "809  [[[1], [0], [0], [0], [0], [0], [0], [0], [0],...   \n",
       "811  [[[1], [1], [1], [1], [1], [1], [1], [1], [1],...   \n",
       "\n",
       "                                       flattened_masks  \n",
       "801  [1, 1, 1, 1, 1, 1, 1, 1, 1, 1, 1, 1, 1, 1, 1, ...  \n",
       "806  [1, 1, 1, 0, 0, 0, 0, 0, 0, 1, 1, 1, 1, 1, 1, ...  \n",
       "807  [1, 0, 0, 0, 0, 0, 0, 0, 0, 0, 0, 0, 0, 0, 0, ...  \n",
       "809  [1, 0, 0, 0, 0, 0, 0, 0, 0, 0, 0, 0, 0, 0, 0, ...  \n",
       "811  [1, 1, 1, 1, 1, 1, 1, 1, 1, 1, 1, 1, 1, 1, 1, ...  "
      ]
     },
     "execution_count": 11,
     "metadata": {},
     "output_type": "execute_result"
    }
   ],
   "source": [
    "train_df_men_only = train_df[train_df[\"male\"] == True]\n",
    "\n",
    "train_df_men_only.head()"
   ]
  },
  {
   "cell_type": "code",
   "execution_count": 12,
   "id": "c30c1d68",
   "metadata": {},
   "outputs": [],
   "source": [
    "X_train_male = np.array(train_df_men_only[\"flattened_masks\"].values.tolist())\n",
    "y_train_male = np.array(train_df_men_only[\"boneage\"])\n",
    "X_train_male, X_test_male, y_train_male, y_test_male = train_test_split(X_train_male, y_train_male, \n",
    "                                                                        test_size = 0.2, random_state = 0)"
   ]
  },
  {
   "cell_type": "code",
   "execution_count": 13,
   "id": "c0387542",
   "metadata": {},
   "outputs": [
    {
     "data": {
      "text/html": [
       "<div>\n",
       "<style scoped>\n",
       "    .dataframe tbody tr th:only-of-type {\n",
       "        vertical-align: middle;\n",
       "    }\n",
       "\n",
       "    .dataframe tbody tr th {\n",
       "        vertical-align: top;\n",
       "    }\n",
       "\n",
       "    .dataframe thead th {\n",
       "        text-align: right;\n",
       "    }\n",
       "</style>\n",
       "<table border=\"1\" class=\"dataframe\">\n",
       "  <thead>\n",
       "    <tr style=\"text-align: right;\">\n",
       "      <th></th>\n",
       "      <th>id</th>\n",
       "      <th>boneage</th>\n",
       "      <th>male</th>\n",
       "      <th>file_paths</th>\n",
       "      <th>masks</th>\n",
       "      <th>flattened_masks</th>\n",
       "    </tr>\n",
       "  </thead>\n",
       "  <tbody>\n",
       "    <tr>\n",
       "      <th>800</th>\n",
       "      <td>9727</td>\n",
       "      <td>120</td>\n",
       "      <td>False</td>\n",
       "      <td>./data/validation/9727.png</td>\n",
       "      <td>[[[1], [0], [0], [0], [0], [0], [0], [0], [0],...</td>\n",
       "      <td>[1, 0, 0, 0, 0, 0, 0, 0, 0, 0, 0, 0, 0, 0, 0, ...</td>\n",
       "    </tr>\n",
       "    <tr>\n",
       "      <th>802</th>\n",
       "      <td>9743</td>\n",
       "      <td>113</td>\n",
       "      <td>False</td>\n",
       "      <td>./data/validation/9743.png</td>\n",
       "      <td>[[[1], [0], [0], [0], [0], [0], [0], [0], [0],...</td>\n",
       "      <td>[1, 0, 0, 0, 0, 0, 0, 0, 0, 0, 0, 0, 0, 0, 0, ...</td>\n",
       "    </tr>\n",
       "    <tr>\n",
       "      <th>803</th>\n",
       "      <td>9748</td>\n",
       "      <td>144</td>\n",
       "      <td>False</td>\n",
       "      <td>./data/validation/9748.png</td>\n",
       "      <td>[[[1], [1], [0], [0], [0], [0], [0], [0], [0],...</td>\n",
       "      <td>[1, 1, 0, 0, 0, 0, 0, 0, 0, 0, 0, 0, 0, 0, 0, ...</td>\n",
       "    </tr>\n",
       "    <tr>\n",
       "      <th>804</th>\n",
       "      <td>9755</td>\n",
       "      <td>106</td>\n",
       "      <td>False</td>\n",
       "      <td>./data/validation/9755.png</td>\n",
       "      <td>[[[1], [1], [1], [1], [1], [1], [0], [0], [0],...</td>\n",
       "      <td>[1, 1, 1, 1, 1, 1, 0, 0, 0, 0, 0, 0, 0, 0, 0, ...</td>\n",
       "    </tr>\n",
       "    <tr>\n",
       "      <th>805</th>\n",
       "      <td>9757</td>\n",
       "      <td>144</td>\n",
       "      <td>False</td>\n",
       "      <td>./data/validation/9757.png</td>\n",
       "      <td>[[[1], [0], [0], [0], [0], [0], [0], [0], [0],...</td>\n",
       "      <td>[1, 0, 0, 0, 0, 0, 0, 0, 0, 0, 0, 0, 0, 0, 0, ...</td>\n",
       "    </tr>\n",
       "  </tbody>\n",
       "</table>\n",
       "</div>"
      ],
      "text/plain": [
       "       id  boneage   male                  file_paths  \\\n",
       "800  9727      120  False  ./data/validation/9727.png   \n",
       "802  9743      113  False  ./data/validation/9743.png   \n",
       "803  9748      144  False  ./data/validation/9748.png   \n",
       "804  9755      106  False  ./data/validation/9755.png   \n",
       "805  9757      144  False  ./data/validation/9757.png   \n",
       "\n",
       "                                                 masks  \\\n",
       "800  [[[1], [0], [0], [0], [0], [0], [0], [0], [0],...   \n",
       "802  [[[1], [0], [0], [0], [0], [0], [0], [0], [0],...   \n",
       "803  [[[1], [1], [0], [0], [0], [0], [0], [0], [0],...   \n",
       "804  [[[1], [1], [1], [1], [1], [1], [0], [0], [0],...   \n",
       "805  [[[1], [0], [0], [0], [0], [0], [0], [0], [0],...   \n",
       "\n",
       "                                       flattened_masks  \n",
       "800  [1, 0, 0, 0, 0, 0, 0, 0, 0, 0, 0, 0, 0, 0, 0, ...  \n",
       "802  [1, 0, 0, 0, 0, 0, 0, 0, 0, 0, 0, 0, 0, 0, 0, ...  \n",
       "803  [1, 1, 0, 0, 0, 0, 0, 0, 0, 0, 0, 0, 0, 0, 0, ...  \n",
       "804  [1, 1, 1, 1, 1, 1, 0, 0, 0, 0, 0, 0, 0, 0, 0, ...  \n",
       "805  [1, 0, 0, 0, 0, 0, 0, 0, 0, 0, 0, 0, 0, 0, 0, ...  "
      ]
     },
     "execution_count": 13,
     "metadata": {},
     "output_type": "execute_result"
    }
   ],
   "source": [
    "train_df_women_only = train_df[train_df[\"male\"] == False]\n",
    "\n",
    "train_df_women_only.head()"
   ]
  },
  {
   "cell_type": "code",
   "execution_count": 14,
   "id": "77ce6e61",
   "metadata": {},
   "outputs": [],
   "source": [
    "X_train_women = np.array(train_df_women_only[\"flattened_masks\"].values.tolist())\n",
    "y_train_women = np.array(train_df_women_only[\"boneage\"])\n",
    "X_train_women, X_test_women, y_train_women, y_test_women = train_test_split(X_train_women, y_train_women, \n",
    "                                                                        test_size = 0.2, random_state = 0)"
   ]
  },
  {
   "cell_type": "code",
   "execution_count": 16,
   "id": "b232a2a6",
   "metadata": {},
   "outputs": [
    {
     "name": "stdout",
     "output_type": "stream",
     "text": [
      "7.98471433069363 years\n",
      "-6.934945648636742 years\n",
      "28.679641737797535  months\n",
      "2.3899701448164614  years\n"
     ]
    }
   ],
   "source": [
    "opt_regressor = SVR(C=10, coef0=0.01, degree=3, gamma=\"scale\", kernel=\"rbf\")\n",
    "opt_regressor.fit(X_train, y_train)\n",
    "\n",
    "preds = opt_regressor.predict(X_test)\n",
    "print(np.max((preds - y_test) / 12), \"years\")\n",
    "print(np.min((preds - y_test) / 12), \"years\")\n",
    "\n",
    "error = mean_absolute_error(y_test, preds)\n",
    "print(error, \" months\")\n",
    "print(error / 12, \" years\")"
   ]
  },
  {
   "cell_type": "code",
   "execution_count": 17,
   "id": "bcf3e8e7",
   "metadata": {},
   "outputs": [
    {
     "name": "stdout",
     "output_type": "stream",
     "text": [
      "8.870216624055876 years\n",
      "-5.231316001759983 years\n",
      "33.220569270439924  months\n",
      "2.7683807725366605  years\n"
     ]
    }
   ],
   "source": [
    "opt_regressor_m = SVR(C=10, coef0=0.01, degree=3, gamma=\"scale\", kernel=\"rbf\")\n",
    "opt_regressor_m.fit(X_train_male, y_train_male)\n",
    "\n",
    "preds = opt_regressor_m.predict(X_test_male)\n",
    "print(np.max((preds - y_test_male) / 12), \"years\")\n",
    "print(np.min((preds - y_test_male) / 12), \"years\")\n",
    "\n",
    "error = mean_absolute_error(y_test_male, preds)\n",
    "print(error, \" months\")\n",
    "print(error / 12, \" years\")"
   ]
  },
  {
   "cell_type": "code",
   "execution_count": 18,
   "id": "6b097578",
   "metadata": {},
   "outputs": [
    {
     "name": "stdout",
     "output_type": "stream",
     "text": [
      "7.011867745184733 years\n",
      "-3.534663566257533 years\n",
      "31.59508478240684  months\n",
      "2.6329237318672365  years\n"
     ]
    }
   ],
   "source": [
    "opt_regressor_f = SVR(C=10, coef0=0.01, degree=3, gamma=\"scale\", kernel=\"rbf\")\n",
    "opt_regressor_f.fit(X_train_women, y_train_women)\n",
    "\n",
    "preds = opt_regressor_m.predict(X_test_women)\n",
    "print(np.max((preds - y_test_women) / 12), \"years\")\n",
    "print(np.min((preds - y_test_women) / 12), \"years\")\n",
    "\n",
    "error = mean_absolute_error(y_test_women, preds)\n",
    "print(error, \" months\")\n",
    "print(error / 12, \" years\")"
   ]
  },
  {
   "cell_type": "code",
   "execution_count": 19,
   "id": "e207265b",
   "metadata": {},
   "outputs": [
    {
     "data": {
      "text/plain": [
       "228"
      ]
     },
     "execution_count": 19,
     "metadata": {},
     "output_type": "execute_result"
    }
   ],
   "source": [
    "max(train_df[\"boneage\"])"
   ]
  },
  {
   "cell_type": "code",
   "execution_count": 20,
   "id": "bb5c2417",
   "metadata": {},
   "outputs": [],
   "source": [
    "train_df_older = train_df[train_df[\"boneage\"] > 120]\n",
    "\n",
    "X_train_older = np.array(train_df_older[\"flattened_masks\"].values.tolist())\n",
    "y_train_older = np.array(train_df_older[\"boneage\"])\n",
    "X_train_older, X_test_older, y_train_older, y_test_older = train_test_split(X_train_older, y_train_older, \n",
    "                                                                        test_size = 0.2, random_state = 0)"
   ]
  },
  {
   "cell_type": "code",
   "execution_count": 22,
   "id": "45d7ff96",
   "metadata": {},
   "outputs": [
    {
     "name": "stdout",
     "output_type": "stream",
     "text": [
      "2.2334229081275865 years\n",
      "-6.136889577629458 years\n",
      "14.300017780311647  months\n",
      "1.191668148359304  years\n"
     ]
    }
   ],
   "source": [
    "opt_regressor_o = SVR(C=10, coef0=0.01, degree=3, gamma=\"scale\", kernel=\"rbf\")\n",
    "opt_regressor_o.fit(X_train_older, y_train_older)\n",
    "\n",
    "preds = opt_regressor_o.predict(X_test_older)\n",
    "print(np.max((preds - y_test_older) / 12), \"years\")\n",
    "print(np.min((preds - y_test_older) / 12), \"years\")\n",
    "\n",
    "error = mean_absolute_error(y_test_older, preds)\n",
    "print(error, \" months\")\n",
    "print(error / 12, \" years\")"
   ]
  },
  {
   "cell_type": "code",
   "execution_count": 24,
   "id": "692ebd86",
   "metadata": {},
   "outputs": [],
   "source": [
    "train_df_o2 = train_df[train_df[\"boneage\"] > 156]\n",
    "\n",
    "X_train_o2 = np.array(train_df_o2[\"flattened_masks\"].values.tolist())\n",
    "y_train_o2 = np.array(train_df_o2[\"boneage\"])\n",
    "X_train_o2, X_test_o2, y_train_o2, y_test_o2 = train_test_split(X_train_o2, y_train_o2, \n",
    "                                                                        test_size = 0.2, random_state = 0)"
   ]
  },
  {
   "cell_type": "code",
   "execution_count": 25,
   "id": "9a0a4117",
   "metadata": {},
   "outputs": [
    {
     "name": "stdout",
     "output_type": "stream",
     "text": [
      "0.6780356767637225 years\n",
      "-4.007392584374107 years\n",
      "12.296125627512257  months\n",
      "1.0246771356260214  years\n"
     ]
    }
   ],
   "source": [
    "opt_regressor_o2 = SVR(C=10, coef0=0.01, degree=3, gamma=\"scale\", kernel=\"rbf\")\n",
    "opt_regressor_o2.fit(X_train_o2, y_train_o2)\n",
    "\n",
    "preds = opt_regressor_o2.predict(X_test_o2)\n",
    "print(np.max((preds - y_test_o2) / 12), \"years\")\n",
    "print(np.min((preds - y_test_o2) / 12), \"years\")\n",
    "\n",
    "error = mean_absolute_error(y_test_o2, preds)\n",
    "print(error, \" months\")\n",
    "print(error / 12, \" years\")"
   ]
  },
  {
   "cell_type": "code",
   "execution_count": 26,
   "id": "2f75faaa",
   "metadata": {},
   "outputs": [
    {
     "data": {
      "text/plain": [
       "625"
      ]
     },
     "execution_count": 26,
     "metadata": {},
     "output_type": "execute_result"
    }
   ],
   "source": [
    "len(train_df)"
   ]
  },
  {
   "cell_type": "code",
   "execution_count": 29,
   "id": "8216c62b",
   "metadata": {},
   "outputs": [
    {
     "data": {
      "text/plain": [
       "0.6416"
      ]
     },
     "execution_count": 29,
     "metadata": {},
     "output_type": "execute_result"
    }
   ],
   "source": [
    "len(train_df[train_df[\"boneage\"] >= 120]) / len(train_df)"
   ]
  },
  {
   "cell_type": "code",
   "execution_count": 28,
   "id": "96e63790",
   "metadata": {},
   "outputs": [
    {
     "data": {
      "text/plain": [
       "0.5168"
      ]
     },
     "execution_count": 28,
     "metadata": {},
     "output_type": "execute_result"
    }
   ],
   "source": [
    "len(train_df[train_df[\"male\"] == True]) / len(train_df)"
   ]
  },
  {
   "cell_type": "code",
   "execution_count": 67,
   "id": "49dbf38b",
   "metadata": {},
   "outputs": [
    {
     "name": "stdout",
     "output_type": "stream",
     "text": [
      "7.98471433069363 years\n",
      "-6.934945648636742 years\n",
      "28.679641737797535  months\n",
      "2.3899701448164614  years\n"
     ]
    }
   ],
   "source": [
    "opt_regressor = SVR(C=10, coef0=0.01, degree=3, gamma=\"scale\", kernel=\"rbf\")\n",
    "opt_regressor.fit(X_train, y_train)\n",
    "\n",
    "preds = opt_regressor.predict(X_test)\n",
    "print(np.max((preds - y_test) / 12), \"years\")\n",
    "print(np.min((preds - y_test) / 12), \"years\")\n",
    "\n",
    "error = mean_absolute_error(y_test, preds)\n",
    "print(error, \" months\")\n",
    "print(error / 12, \" years\")"
   ]
  },
  {
   "cell_type": "code",
   "execution_count": null,
   "id": "d1f11571",
   "metadata": {},
   "outputs": [],
   "source": [
    "regressor = SVR(kernel = 'linear')\n",
    "regressor.fit(X_train, y_train)\n",
    "\n",
    "preds = regressor.predict(X_test)\n",
    "print(np.max((preds - y_test) / 12), \"years\")\n",
    "print(np.min((preds - y_test) / 12), \"years\")\n",
    "\n",
    "error = mean_absolute_error(y_test, preds)\n",
    "print(error, \" months\")\n",
    "print(error / 12, \" years\")"
   ]
  },
  {
   "cell_type": "code",
   "execution_count": null,
   "id": "02a8e26e",
   "metadata": {},
   "outputs": [],
   "source": [
    "param = {'kernel' : ('linear', 'rbf', 'sigmoid'),'C' : [1,5,10],'degree' : [3,8],'coef0' : [0.01,10,0.5],'gamma' : ('auto','scale')},\n",
    "param_search = GridSearchCV(SVR(), param, scoring='neg_mean_absolute_error', verbose = 3)\n",
    "\n",
    "param_search.fit(X_train, y_train)"
   ]
  },
  {
   "cell_type": "code",
   "execution_count": null,
   "id": "bdd4f892",
   "metadata": {},
   "outputs": [],
   "source": [
    "param_search.best_params_"
   ]
  },
  {
   "cell_type": "code",
   "execution_count": null,
   "id": "8ed1977e",
   "metadata": {},
   "outputs": [],
   "source": [
    "clf = tree.DecisionTreeClassifier()\n",
    "clf.fit(X_train, y_train)\n",
    "\n",
    "preds = clf.predict(X_test)\n",
    "print(np.max((preds - y_test) / 12), \"years\")\n",
    "print(np.min((preds - y_test) / 12), \"years\")\n",
    "\n",
    "error = mean_absolute_error(y_test, preds)\n",
    "print(error, \" months\")\n",
    "print(error / 12, \" years\")"
   ]
  },
  {
   "cell_type": "code",
   "execution_count": null,
   "id": "07579d22",
   "metadata": {},
   "outputs": [],
   "source": [
    "clf_rf = RandomForestRegressor(verbose = 1)\n",
    "clf_rf.fit(X_train, y_train)\n",
    "\n",
    "preds = clf_rf.predict(X_test)\n",
    "print(np.max((preds - y_test) / 12), \"years\")\n",
    "print(np.min((preds - y_test) / 12), \"years\")\n",
    "\n",
    "error = mean_absolute_error(y_test, preds)\n",
    "print(error, \" months\")\n",
    "print(error / 12, \" years\")"
   ]
  },
  {
   "cell_type": "code",
   "execution_count": null,
   "id": "28a64bf0",
   "metadata": {},
   "outputs": [],
   "source": [
    "nn_model = keras.Sequential([\n",
    "      tensorflow.keras.layers.Input((65536,)),\n",
    "      tensorflow.keras.layers.Dense(128, activation='relu'),\n",
    "      tensorflow.keras.layers.Dense(64, activation='relu'),\n",
    "      tensorflow.keras.layers.Dense(64, activation='relu'),\n",
    "      tensorflow.keras.layers.Dense(64, activation='relu'),\n",
    "      tensorflow.keras.layers.Dense(1)\n",
    "  ])\n",
    "\n",
    "nn_model.compile(loss='mean_absolute_error', optimizer=\"adam\")\n",
    "nn_model.summary()"
   ]
  },
  {
   "cell_type": "code",
   "execution_count": null,
   "id": "b0621fd2",
   "metadata": {},
   "outputs": [],
   "source": [
    "nn_model.fit(X_train, y_train, epochs=50, validation_split=0.25, callbacks=[keras.callbacks.EarlyStopping(monitor='val_loss', patience=7)])"
   ]
  },
  {
   "cell_type": "code",
   "execution_count": null,
   "id": "113526fa",
   "metadata": {},
   "outputs": [],
   "source": [
    "preds = nn_model.predict(X_test)\n",
    "print(np.max((preds - y_test) / 12), \"years\")\n",
    "print(np.min((preds - y_test) / 12), \"years\")\n",
    "\n",
    "error = mean_absolute_error(y_test, preds)\n",
    "print(error, \" months\")\n",
    "print(error / 12, \" years\")"
   ]
  },
  {
   "cell_type": "code",
   "execution_count": null,
   "id": "7362cae8",
   "metadata": {},
   "outputs": [],
   "source": []
  },
  {
   "cell_type": "code",
   "execution_count": 20,
   "id": "04b141c2",
   "metadata": {},
   "outputs": [
    {
     "data": {
      "text/plain": [
       "323"
      ]
     },
     "execution_count": 20,
     "metadata": {},
     "output_type": "execute_result"
    }
   ],
   "source": [
    "men = len(train_df[train_df[\"male\"] == True])\n",
    "\n",
    "men"
   ]
  },
  {
   "cell_type": "code",
   "execution_count": 21,
   "id": "5442150f",
   "metadata": {},
   "outputs": [
    {
     "data": {
      "text/plain": [
       "302"
      ]
     },
     "execution_count": 21,
     "metadata": {},
     "output_type": "execute_result"
    }
   ],
   "source": [
    "women = len(train_df[train_df[\"male\"] == False])\n",
    "\n",
    "women"
   ]
  },
  {
   "cell_type": "code",
   "execution_count": 51,
   "id": "4fccd5d9",
   "metadata": {},
   "outputs": [
    {
     "data": {
      "image/png": "[encoded data removed]",
      "text/plain": [
       "<Figure size 360x360 with 1 Axes>"
      ]
     },
     "metadata": {
      "needs_background": "light"
     },
     "output_type": "display_data"
    }
   ],
   "source": [
    "plt.figure(figsize=(5, 5))\n",
    "plt.bar([\"Male\", \"Female\"], [men, women], color=(0.2, 0.4, 0.6, 0.6), edgecolor=\"#2460D8\")\n",
    "plt.title(\"Distribution by Gender\")\n",
    "plt.show()"
   ]
  },
  {
   "cell_type": "code",
   "execution_count": 61,
   "id": "bc732ea2",
   "metadata": {},
   "outputs": [
    {
     "data": {
      "image/png": "[encoded data removed]",
      "text/plain": [
       "<Figure size 720x360 with 1 Axes>"
      ]
     },
     "metadata": {
      "needs_background": "light"
     },
     "output_type": "display_data"
    }
   ],
   "source": [
    "import matplotlib\n",
    "plt.figure(figsize=(10, 5))\n",
    "plt.hist(train_df[\"boneage\"], bins=18, range=(0, 250), color=\"#f58f8fff\", edgecolor=\"#af4345\")\n",
    "plt.axvline(125, color='k', linestyle='dotted', linewidth=4)\n",
    "plt.title(\"Bone Age Histogram Distribution\")\n",
    "plt.xticks(range(0, 250, 24))\n",
    "plt.show()"
   ]
  },
  {
   "cell_type": "code",
   "execution_count": 59,
   "id": "62c94f4e",
   "metadata": {},
   "outputs": [
    {
     "data": {
      "text/plain": [
       "228"
      ]
     },
     "execution_count": 59,
     "metadata": {},
     "output_type": "execute_result"
    }
   ],
   "source": [
    "max(train_df[\"boneage\"])"
   ]
  },
  {
   "cell_type": "code",
   "execution_count": 138,
   "id": "d3e19773",
   "metadata": {},
   "outputs": [
    {
     "data": {
      "text/plain": [
       "<matplotlib.image.AxesImage at 0x7f97f83fac18>"
      ]
     },
     "execution_count": 138,
     "metadata": {},
     "output_type": "execute_result"
    },
    {
     "data": {
      "image/png": "[encoded data removed]",
      "text/plain": [
       "<Figure size 432x288 with 1 Axes>"
      ]
     },
     "metadata": {
      "needs_background": "light"
     },
     "output_type": "display_data"
    }
   ],
   "source": [
    "img = imread(train_df[\"file_paths\"][1012])\n",
    "imshow(img)"
   ]
  },
  {
   "cell_type": "code",
   "execution_count": 140,
   "id": "65d5fef1",
   "metadata": {},
   "outputs": [
    {
     "name": "stdout",
     "output_type": "stream",
     "text": [
      "109.32361824948624\n"
     ]
    },
    {
     "data": {
      "text/plain": [
       "12"
      ]
     },
     "execution_count": 140,
     "metadata": {},
     "output_type": "execute_result"
    },
    {
     "data": {
      "image/png": "[encoded data removed]",
      "text/plain": [
       "<Figure size 432x288 with 2 Axes>"
      ]
     },
     "metadata": {
      "needs_background": "light"
     },
     "output_type": "display_data"
    }
   ],
   "source": [
    "imshow(train_df[\"masks\"][1012], cmap=plt.cm.gray)\n",
    "\n",
    "print(np.min(preds))\n",
    "train_df[\"boneage\"][1012]"
   ]
  },
  {
   "cell_type": "code",
   "execution_count": null,
   "id": "985a8e2e",
   "metadata": {},
   "outputs": [],
   "source": []
  }
 ],
 "metadata": {
  "kernelspec": {
   "display_name": "Python 3",
   "language": "python",
   "name": "python3"
  },
  "language_info": {
   "codemirror_mode": {
    "name": "ipython",
    "version": 3
   },
   "file_extension": ".py",
   "mimetype": "text/x-python",
   "name": "python",
   "nbconvert_exporter": "python",
   "pygments_lexer": "ipython3",
   "version": "3.6.13"
  }
 },
 "nbformat": 4,
 "nbformat_minor": 5
}

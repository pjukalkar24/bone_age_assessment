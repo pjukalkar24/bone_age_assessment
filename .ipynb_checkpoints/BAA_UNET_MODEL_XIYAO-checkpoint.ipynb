{
 "cells": [
  {
   "cell_type": "code",
   "execution_count": null,
   "id": "4ceafc5c",
   "metadata": {},
   "outputs": [],
   "source": [
    "import tensorflow as tf\n",
    "from tensorflow import keras\n",
    "\n",
    "import numpy as np\n",
    "\n",
    "import skimage\n",
    "from skimage.io import imread, imshow\n",
    "from skimage.transform import resize\n",
    "from sklearn import cluster\n",
    "\n",
    "import matplotlib.pyplot as plt\n",
    "\n",
    "import os"
   ]
  },
  {
   "cell_type": "markdown",
   "id": "8d99efc4",
   "metadata": {},
   "source": [
    "### LOAD TRAINING DATA"
   ]
  },
  {
   "cell_type": "code",
   "execution_count": null,
   "id": "a6882c52",
   "metadata": {},
   "outputs": [],
   "source": [
    "# CHANGE THIS VARIABLE TO CHANGE PATH TO ALL TRAINING IMAGES\n",
    "# MAKE SURE ALL FILES IN SPECIFIED DIRECTORY ARE IMAGE FILES OR OTHER FOLDERS\n",
    "train_set_images = './pipeline_outputs/data/train/'"
   ]
  },
  {
   "cell_type": "code",
   "execution_count": null,
   "id": "14e7e0c8",
   "metadata": {},
   "outputs": [],
   "source": [
    "img_file_paths = [f for f in os.listdir(train_set_images) if os.path.isfile(os.path.join(train_set_images, f))]\n",
    "img_file_paths = [train_set_images + f for f in img_file_paths]\n",
    "img_file_paths.sort()"
   ]
  },
  {
   "cell_type": "code",
   "execution_count": null,
   "id": "5f11a01a",
   "metadata": {},
   "outputs": [],
   "source": [
    "NUM_IMAGES = len(img_file_paths)\n",
    "IMG_WIDTH = 256\n",
    "IMG_HEIGHT = 256\n",
    "\n",
    "X_train = np.zeros( (NUM_IMAGES, IMG_WIDTH, IMG_HEIGHT, 1), dtype=np.float32 )\n",
    "y_train = np.zeros( (NUM_IMAGES, IMG_WIDTH, IMG_HEIGHT, 1), dtype=np.float32 )\n",
    "\n",
    "for img, i in zip(img_file_paths, range(NUM_IMAGES)):\n",
    "    img_curr = imread(img)\n",
    "    img_curr = resize(img_curr, (IMG_WIDTH, IMG_HEIGHT, 1), mode=\"constant\", preserve_range=True)\n",
    "    X_train[i] = img_curr\n",
    "    \n",
    "    \n",
    "    \n",
    "    x_ray = (np.int64(imread(img))).reshape((-1,1))\n",
    "    k_m = cluster.KMeans(n_clusters=5, n_init=10)\n",
    "    k_m.fit(x_ray)\n",
    "    \n",
    "    values, labels = np.int64(k_m.cluster_centers_.squeeze()), np.int64(k_m.labels_)\n",
    "    img_segm = np.choose(labels, values)\n",
    "    img_segm.shape = (256, 256, 1)\n",
    "    \n",
    "    pix_val = 0.0\n",
    "    for value in (np.unique(img_segm)):\n",
    "        img_segm = np.where(img_segm == value, pix_val, img_segm)\n",
    "        pix_val += 0.25\n",
    "        \n",
    "    img_segm = np.where(img_segm > 0.5, 1, img_segm)\n",
    "    img_segm = np.where(img_segm <= 0.5, 0, img_segm)\n",
    "    img_segm = np.uint8(img_segm)\n",
    "    y_train[i] = img_segm"
   ]
  },
  {
   "cell_type": "code",
   "execution_count": null,
   "id": "38c7bf4f",
   "metadata": {},
   "outputs": [],
   "source": [
    "imshow(X_train[10], cmap=plt.cm.gray)"
   ]
  },
  {
   "cell_type": "code",
   "execution_count": null,
   "id": "c5203270",
   "metadata": {},
   "outputs": [],
   "source": [
    "imshow(y_train[10], cmap=plt.cm.gray)"
   ]
  },
  {
   "cell_type": "markdown",
   "id": "b4aa7efe",
   "metadata": {},
   "source": [
    "### U-NET MODEL"
   ]
  },
  {
   "cell_type": "code",
   "execution_count": null,
   "id": "4ee99704",
   "metadata": {},
   "outputs": [],
   "source": [
    "inputs = keras.layers.Input( (256, 256, 1) )\n",
    "s = keras.layers.Lambda(lambda x: x / 255.)(inputs)\n",
    "\n",
    "# contracting path\n",
    "c1 = keras.layers.Conv2D(64, (5,5), activation=\"relu\", kernel_initializer=\"he_normal\", padding=\"same\")(s)\n",
    "c1 = keras.layers.Dropout(0.2)(c1)\n",
    "c1 = keras.layers.Conv2D(64, (5,5), activation=\"relu\", kernel_initializer=\"he_normal\", padding=\"same\")(c1)\n",
    "p1 = keras.layers.MaxPooling2D( (2,2) )(c1)\n",
    "\n",
    "c2 = keras.layers.Conv2D(96, (3,3), activation=\"relu\", kernel_initializer=\"he_normal\", padding=\"same\")(p1)\n",
    "c2 = keras.layers.Dropout(0.2)(c2)\n",
    "c2 = keras.layers.Conv2D(96, (3,3), activation=\"relu\", kernel_initializer=\"he_normal\", padding=\"same\")(c2)\n",
    "p2 = keras.layers.MaxPooling2D( (2,2) )(c2)\n",
    "\n",
    "c3 = keras.layers.Conv2D(128, (3,3), activation=\"relu\", kernel_initializer=\"he_normal\", padding=\"same\")(p2)\n",
    "c3 = keras.layers.Dropout(0.2)(c3)\n",
    "c3 = keras.layers.Conv2D(128, (3,3), activation=\"relu\", kernel_initializer=\"he_normal\", padding=\"same\")(c3)\n",
    "p3 = keras.layers.MaxPooling2D( (2,2) )(c3)\n",
    "\n",
    "c4 = keras.layers.Conv2D(256, (3,3), activation=\"relu\", kernel_initializer=\"he_normal\", padding=\"same\")(p3)\n",
    "c4 = keras.layers.Dropout(0.2)(c4)\n",
    "c4 = keras.layers.Conv2D(256, (3,3), activation=\"relu\", kernel_initializer=\"he_normal\", padding=\"same\")(c4)\n",
    "p4 = keras.layers.MaxPooling2D( (2,2) )(c4)\n",
    "\n",
    "c5 = keras.layers.Conv2D(512, (3,3), activation=\"relu\", kernel_initializer=\"he_normal\", padding=\"same\")(p4)\n",
    "c5 = keras.layers.Dropout(0.2)(c5)\n",
    "c5 = keras.layers.Conv2D(512, (3,3), activation=\"relu\", kernel_initializer=\"he_normal\", padding=\"same\")(c5)\n",
    "\n",
    "# expansive path\n",
    "u6 = keras.layers.Conv2DTranspose(256, (2,2), strides=(2,2), padding=\"same\")(c5)\n",
    "u6 = keras.layers.concatenate([u6, c4])\n",
    "c6 = keras.layers.Conv2D(256, (3,3), activation=\"relu\", kernel_initializer=\"he_normal\", padding=\"same\")(u6)\n",
    "c6 = keras.layers.Dropout(0.2)(c6)\n",
    "c6 = keras.layers.Conv2D(256, (3,3), activation=\"relu\", kernel_initializer=\"he_normal\", padding=\"same\")(c6)\n",
    "\n",
    "u7 = keras.layers.Conv2DTranspose(128, (2,2), strides=(2,2), padding=\"same\")(c6)\n",
    "u7 = keras.layers.concatenate([u7, c3])\n",
    "c7 = keras.layers.Conv2D(128, (3,3), activation=\"relu\", kernel_initializer=\"he_normal\", padding=\"same\")(u7)\n",
    "c7 = keras.layers.Dropout(0.2)(c7)\n",
    "c7 = keras.layers.Conv2D(128, (3,3), activation=\"relu\", kernel_initializer=\"he_normal\", padding=\"same\")(c7)\n",
    "\n",
    "u8 = keras.layers.Conv2DTranspose(96, (2,2), strides=(2,2), padding=\"same\")(c7)\n",
    "u8 = keras.layers.concatenate([u8, c2])\n",
    "c8 = keras.layers.Conv2D(96, (3,3), activation=\"relu\", kernel_initializer=\"he_normal\", padding=\"same\")(u8)\n",
    "c8 = keras.layers.Dropout(0.1)(c8)\n",
    "c8 = keras.layers.Conv2D(96, (3,3), activation=\"relu\", kernel_initializer=\"he_normal\", padding=\"same\")(c8)\n",
    "\n",
    "u9 = keras.layers.Conv2DTranspose(64, (2,2), strides=(2,2), padding=\"same\")(c8)\n",
    "u9 = keras.layers.concatenate([u9, c1], axis=3)\n",
    "c9 = keras.layers.Conv2D(64, (5,5), activation=\"relu\", kernel_initializer=\"he_normal\", padding=\"same\")(u9)\n",
    "c9 = keras.layers.Dropout(0.1)(c9)\n",
    "c9 = keras.layers.Conv2D(64, (5,5), activation=\"relu\", kernel_initializer=\"he_normal\", padding=\"same\")(c9)\n",
    "\n",
    "outputs = keras.layers.Conv2D(1, (1,1), activation=\"sigmoid\")(c9)"
   ]
  },
  {
   "cell_type": "code",
   "execution_count": null,
   "id": "9cf12406",
   "metadata": {},
   "outputs": [],
   "source": [
    "model = keras.Model(inputs=[inputs], outputs=[outputs])\n",
    "model.compile(optimizer=\"adam\", loss='binary_crossentropy', metrics=['accuracy'])\n",
    "model.summary()"
   ]
  },
  {
   "cell_type": "code",
   "execution_count": null,
   "id": "e272f759",
   "metadata": {},
   "outputs": [],
   "source": [
    "checkpointer = keras.callbacks.ModelCheckpoint('DDUNET_train_custom_loss_2.h5', verbose=1, save_best_only=True)\n",
    "\n",
    "callbacks = [\n",
    "    keras.callbacks.EarlyStopping(monitor='val_loss', patience=4),\n",
    "    keras.callbacks.TensorBoard(log_dir='logs_ddunet_custom_loss_2'),\n",
    "    checkpointer\n",
    "]"
   ]
  },
  {
   "cell_type": "code",
   "execution_count": null,
   "id": "1108e78a",
   "metadata": {
    "scrolled": false
   },
   "outputs": [],
   "source": [
    "model.fit(X_train, y_train, validation_split=0.3, batch_size=10, epochs=30, callbacks=callbacks)"
   ]
  },
  {
   "cell_type": "code",
   "execution_count": null,
   "id": "0639b894",
   "metadata": {},
   "outputs": [],
   "source": [
    "results = model.predict(X_train, verbose=1)"
   ]
  },
  {
   "cell_type": "markdown",
   "id": "23510c51",
   "metadata": {},
   "source": [
    "### TRAINING SET RESULTS"
   ]
  },
  {
   "cell_type": "code",
   "execution_count": null,
   "id": "77148f41",
   "metadata": {},
   "outputs": [],
   "source": [
    "SAMPLE_NUMBER = 8\n",
    "\n",
    "i, (im1, im2, im3, im4) = plt.subplots(1, 4, sharey=False)\n",
    "i.set_figwidth(20)\n",
    "\n",
    "im1.title.set_text(\"Original X-Ray\")\n",
    "im1.imshow(X_train[SAMPLE_NUMBER])\n",
    "\n",
    "im2.title.set_text(\"K-Means Clustered X-Ray\")\n",
    "im2.imshow(y_train[SAMPLE_NUMBER])\n",
    "\n",
    "im3.title.set_text(\"U-Net Sigmoid Output\")\n",
    "im3.imshow(results[SAMPLE_NUMBER])\n",
    "\n",
    "test_img = results[SAMPLE_NUMBER]\n",
    "thresh = np.mean(test_img)\n",
    "test_img = np.where(test_img >= thresh, 1, 0)\n",
    "im4.title.set_text(\"Processed U-Net Output\")\n",
    "im4.imshow(test_img)"
   ]
  },
  {
   "cell_type": "markdown",
   "id": "60a82b1e",
   "metadata": {},
   "source": [
    "### LOAD TESTING SET"
   ]
  },
  {
   "cell_type": "code",
   "execution_count": null,
   "id": "32a0199c",
   "metadata": {},
   "outputs": [],
   "source": [
    "# CHANGE THIS VARIABLE TO CHANGE PATH TO ALL TESTING IMAGES\n",
    "# MAKE SURE ALL FILES IN SPECIFIED DIRECTORY ARE IMAGE FILES OR OTHER FOLDERS\n",
    "test_set_images = './pipeline_outputs/data/test/'"
   ]
  },
  {
   "cell_type": "code",
   "execution_count": null,
   "id": "0ba415d5",
   "metadata": {},
   "outputs": [],
   "source": [
    "test_file_paths = [f for f in os.listdir(test_set_images) if os.path.isfile(os.path.join(test_set_images, f))]\n",
    "test_file_paths = [test_set_images + f for f in test_file_paths]\n",
    "test_file_paths.sort()"
   ]
  },
  {
   "cell_type": "code",
   "execution_count": null,
   "id": "d0b5f5cb",
   "metadata": {},
   "outputs": [],
   "source": [
    "NUM_IMAGES = len(test_file_paths)\n",
    "IMG_WIDTH = 256\n",
    "IMG_HEIGHT = 256\n",
    "\n",
    "X_test = np.zeros( (NUM_IMAGES, IMG_WIDTH, IMG_HEIGHT, 1), dtype=np.float32 )\n",
    "\n",
    "for img, i in zip(test_file_paths, range(NUM_IMAGES)):\n",
    "    img_curr = imread(img)\n",
    "    img_curr = resize(img_curr, (IMG_WIDTH, IMG_HEIGHT, 1), mode=\"constant\", preserve_range=True)\n",
    "    X_test[i] = img_curr"
   ]
  },
  {
   "cell_type": "markdown",
   "id": "03175a81",
   "metadata": {},
   "source": [
    "### TESTING SET RESULTS"
   ]
  },
  {
   "cell_type": "code",
   "execution_count": null,
   "id": "c4a5dd5e",
   "metadata": {},
   "outputs": [],
   "source": [
    "test_results = model.predict(X_test, verbose=1)"
   ]
  },
  {
   "cell_type": "code",
   "execution_count": null,
   "id": "e95e9b7b",
   "metadata": {},
   "outputs": [],
   "source": [
    "SAMPLE_NUMBER = 8\n",
    "\n",
    "i, (im1, im2, im3) = plt.subplots(1, 3, sharey=False)\n",
    "i.set_figwidth(20)\n",
    "\n",
    "im1.title.set_text(\"Original X-Ray\")\n",
    "im1.imshow(X_test[SAMPLE_NUMBER])\n",
    "\n",
    "im2.title.set_text(\"U-Net Sigmoid Output\")\n",
    "im2.imshow(test_results[SAMPLE_NUMBER])\n",
    "\n",
    "test_img = test_results[SAMPLE_NUMBER]\n",
    "thresh = np.mean(test_img)\n",
    "test_img = np.where(test_img >= thresh, 1, 0)\n",
    "im3.title.set_text(\"Processed U-Net Output\")\n",
    "im3.imshow(test_img)"
   ]
  },
  {
   "cell_type": "code",
   "execution_count": null,
   "id": "80308ab4",
   "metadata": {},
   "outputs": [],
   "source": [
    "model.save(\"UNET_MODEL.h5\")"
   ]
  }
 ],
 "metadata": {
  "kernelspec": {
   "display_name": "Python 3",
   "language": "python",
   "name": "python3"
  },
  "language_info": {
   "codemirror_mode": {
    "name": "ipython",
    "version": 3
   },
   "file_extension": ".py",
   "mimetype": "text/x-python",
   "name": "python",
   "nbconvert_exporter": "python",
   "pygments_lexer": "ipython3",
   "version": "3.6.13"
  }
 },
 "nbformat": 4,
 "nbformat_minor": 5
}

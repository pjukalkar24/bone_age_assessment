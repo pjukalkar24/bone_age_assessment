{
 "cells": [
  {
   "cell_type": "code",
   "execution_count": null,
   "id": "2af861a0",
   "metadata": {},
   "outputs": [],
   "source": [
    "import pandas as pd\n",
    "import numpy as np\n",
    "import cv2\n",
    "import skimage\n",
    "from skimage.transform import resize\n",
    "from skimage.io import imread, imshow\n",
    "import matplotlib.pyplot as plt\n",
    "\n",
    "import tensorflow\n",
    "from tensorflow import keras\n",
    "from tensorflow.keras.models import load_model\n",
    "\n",
    "from sklearn.model_selection import train_test_split, GridSearchCV\n",
    "from sklearn import tree\n",
    "from sklearn.ensemble import RandomForestRegressor\n",
    "from sklearn.svm import SVR\n",
    "from sklearn.metrics import mean_absolute_error"
   ]
  },
  {
   "cell_type": "code",
   "execution_count": null,
   "id": "74eece0c",
   "metadata": {},
   "outputs": [],
   "source": [
    "train_df = pd.read_csv(\"BoneAge.csv\")\n",
    "\n",
    "train_df.head()"
   ]
  },
  {
   "cell_type": "code",
   "execution_count": null,
   "id": "5c0f058f",
   "metadata": {},
   "outputs": [],
   "source": [
    "train_df = train_df.drop(\"male\", axis=1)\n",
    "\n",
    "train_df.head()"
   ]
  },
  {
   "cell_type": "code",
   "execution_count": null,
   "id": "19bdcee6",
   "metadata": {},
   "outputs": [],
   "source": [
    "train_df[\"file_paths\"] = train_df[\"id\"].apply(lambda x: \"./data/validation/\" + str(x) + \".png\")\n",
    "\n",
    "train_df.head()"
   ]
  },
  {
   "cell_type": "code",
   "execution_count": null,
   "id": "5d08030f",
   "metadata": {},
   "outputs": [],
   "source": [
    "def find_valid_files(file_path):\n",
    "    try:\n",
    "        imread(file_path)\n",
    "        return 1\n",
    "    except FileNotFoundError:\n",
    "        return 0\n",
    "    \n",
    "train_df[\"valid\"] = train_df[\"file_paths\"].apply(lambda x: find_valid_files(x))\n",
    "train_df = train_df[train_df[\"valid\"] == 1]\n",
    "train_df = train_df.drop(\"valid\", axis=1)\n",
    "\n",
    "train_df.head()"
   ]
  },
  {
   "cell_type": "code",
   "execution_count": null,
   "id": "324507b4",
   "metadata": {},
   "outputs": [],
   "source": [
    "MODEL_PATH = \"FINAL_UNET_MODEL.h5\"\n",
    "model = load_model(MODEL_PATH)"
   ]
  },
  {
   "cell_type": "code",
   "execution_count": null,
   "id": "be4c8f49",
   "metadata": {},
   "outputs": [],
   "source": [
    "def apply_model(file_path):\n",
    "    image = imread(file_path)\n",
    "    image = resize(image, (256, 256, 1), mode=\"constant\", preserve_range=True)\n",
    "    result = model.predict( np.expand_dims(image, 0) )[0]\n",
    "    result = np.where(result >= np.mean(result), 1, 0)\n",
    "    \n",
    "    return result\n",
    "\n",
    "train_df[\"masks\"] = train_df[\"file_paths\"].apply(lambda x: apply_model(x))\n",
    "train_df.head()"
   ]
  },
  {
   "cell_type": "code",
   "execution_count": null,
   "id": "9c2409f9",
   "metadata": {
    "scrolled": true
   },
   "outputs": [],
   "source": [
    "segm_img = train_df.iloc(0)[8][\"masks\"]\n",
    "imshow(segm_img, cmap=plt.cm.gray)"
   ]
  },
  {
   "cell_type": "code",
   "execution_count": null,
   "id": "decaaa90",
   "metadata": {},
   "outputs": [],
   "source": [
    "train_df[\"flattened_masks\"] = train_df[\"masks\"].apply(lambda x: x.flatten())\n",
    "train_df.head()"
   ]
  },
  {
   "cell_type": "code",
   "execution_count": null,
   "id": "4fda2d2e",
   "metadata": {},
   "outputs": [],
   "source": [
    "X_train = np.array(train_df[\"flattened_masks\"].values.tolist())\n",
    "y_train = np.array(train_df[\"boneage\"])\n",
    "\n",
    "print(X_train.shape)\n",
    "print(y_train.shape)"
   ]
  },
  {
   "cell_type": "code",
   "execution_count": null,
   "id": "0991a3cb",
   "metadata": {},
   "outputs": [],
   "source": [
    "X_train, X_test, y_train, y_test = train_test_split(X_train, y_train, \n",
    "                                                    test_size = 0.2, random_state = 0)"
   ]
  },
  {
   "cell_type": "code",
   "execution_count": null,
   "id": "74174ca7",
   "metadata": {},
   "outputs": [],
   "source": [
    "regressor = SVR(kernel = 'linear')\n",
    "regressor.fit(X_train, y_train)\n",
    "\n",
    "preds = regressor.predict(X_test)\n",
    "print(np.max((preds - y_test) / 12), \"years\")\n",
    "print(np.min((preds - y_test) / 12), \"years\")\n",
    "\n",
    "error = mean_absolute_error(y_test, preds)\n",
    "print(error, \" months\")\n",
    "print(error / 12, \" years\")"
   ]
  },
  {
   "cell_type": "code",
   "execution_count": null,
   "id": "08eabe2f",
   "metadata": {},
   "outputs": [],
   "source": [
    "param = {'kernel' : ('linear', 'rbf', 'sigmoid'),'C' : [1,5,10],'degree' : [3,8],'coef0' : [0.01,10,0.5],'gamma' : ('auto','scale')},\n",
    "param_search = GridSearchCV(SVR(), param, scoring='neg_mean_absolute_error', verbose = 3)\n",
    "\n",
    "param_search.fit(X_train, y_train)"
   ]
  },
  {
   "cell_type": "code",
   "execution_count": null,
   "id": "c3e5bab2",
   "metadata": {},
   "outputs": [],
   "source": [
    "param_search.best_params_"
   ]
  },
  {
   "cell_type": "code",
   "execution_count": null,
   "id": "81914718",
   "metadata": {},
   "outputs": [],
   "source": [
    "opt_regressor = SVR(C=10, coef0=0.01, degree=3, gamma=\"scale\", kernel=\"rbf\")\n",
    "opt_regressor.fit(X_train, y_train)\n",
    "\n",
    "preds = opt_regressor.predict(X_test)\n",
    "print(np.max((preds - y_test) / 12), \"years\")\n",
    "print(np.min((preds - y_test) / 12), \"years\")\n",
    "\n",
    "error = mean_absolute_error(y_test, preds)\n",
    "print(error, \" months\")\n",
    "print(error / 12, \" years\")"
   ]
  },
  {
   "cell_type": "code",
   "execution_count": null,
   "id": "e67f9650",
   "metadata": {},
   "outputs": [],
   "source": [
    "clf = tree.DecisionTreeClassifier()\n",
    "clf.fit(X_train, y_train)\n",
    "\n",
    "preds = clf.predict(X_test)\n",
    "print(np.max((preds - y_test) / 12), \"years\")\n",
    "print(np.min((preds - y_test) / 12), \"years\")\n",
    "\n",
    "error = mean_absolute_error(y_test, preds)\n",
    "print(error, \" months\")\n",
    "print(error / 12, \" years\")"
   ]
  },
  {
   "cell_type": "code",
   "execution_count": null,
   "id": "2e3284a1",
   "metadata": {},
   "outputs": [],
   "source": [
    "clf = RandomForestRegressor(verbose = 1)\n",
    "clf.fit(X_train, y_train)\n",
    "\n",
    "preds = clf.predict(X_test)\n",
    "print(np.max((preds - y_test) / 12), \"years\")\n",
    "print(np.min((preds - y_test) / 12), \"years\")\n",
    "\n",
    "error = mean_absolute_error(y_test, preds)\n",
    "print(error, \" months\")\n",
    "print(error / 12, \" years\")"
   ]
  },
  {
   "cell_type": "code",
   "execution_count": null,
   "id": "aec1720b",
   "metadata": {},
   "outputs": [],
   "source": [
    "nn_model = keras.Sequential([\n",
    "      tensorflow.keras.layers.Input((65536,)),\n",
    "      tensorflow.keras.layers.Dense(128, activation='relu'),\n",
    "      tensorflow.keras.layers.Dense(64, activation='relu'),\n",
    "      tensorflow.keras.layers.Dense(64, activation='relu'),\n",
    "      tensorflow.keras.layers.Dense(64, activation='relu'),\n",
    "      tensorflow.keras.layers.Dense(1)\n",
    "  ])\n",
    "\n",
    "nn_model.compile(loss='mean_absolute_error', optimizer=\"adam\")\n",
    "nn_model.summary()"
   ]
  },
  {
   "cell_type": "code",
   "execution_count": null,
   "id": "022f4c70",
   "metadata": {},
   "outputs": [],
   "source": [
    "nn_model.fit(X_train, y_train, epochs=50, validation_split=0.25, \n",
    "             callbacks=[keras.callbacks.EarlyStopping(monitor='val_loss', patience=7)])"
   ]
  },
  {
   "cell_type": "code",
   "execution_count": null,
   "id": "72af16ed",
   "metadata": {},
   "outputs": [],
   "source": [
    "preds = nn_model.predict(X_test)\n",
    "print(np.max((preds - y_test) / 12), \"years\")\n",
    "print(np.min((preds - y_test) / 12), \"years\")\n",
    "\n",
    "error = mean_absolute_error(y_test, preds)\n",
    "print(error, \" months\")\n",
    "print(error / 12, \" years\")"
   ]
  }
 ],
 "metadata": {
  "kernelspec": {
   "display_name": "Python 3",
   "language": "python",
   "name": "python3"
  },
  "language_info": {
   "codemirror_mode": {
    "name": "ipython",
    "version": 3
   },
   "file_extension": ".py",
   "mimetype": "text/x-python",
   "name": "python",
   "nbconvert_exporter": "python",
   "pygments_lexer": "ipython3",
   "version": "3.6.13"
  }
 },
 "nbformat": 4,
 "nbformat_minor": 5
}
